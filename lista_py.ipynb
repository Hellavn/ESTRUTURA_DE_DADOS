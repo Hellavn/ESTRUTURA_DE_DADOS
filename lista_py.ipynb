{
  "cells": [
    {
      "cell_type": "markdown",
      "metadata": {
        "id": "s74Ji95gApTG"
      },
      "source": [
        "#Notação Big O\n",
        "  "
      ]
    },
    {
      "cell_type": "code",
      "execution_count": null,
      "metadata": {
        "colab": {
          "base_uri": "https://localhost:8080/",
          "height": 269
        },
        "id": "UZZJwIW9gdXs",
        "outputId": "f36ddf34-4469-4eb3-e7d7-f8c7250d90ff"
      },
      "outputs": [
        {
          "data": {
            "image/png": "[encoded data removed]",
            "text/plain": [
              "<Figure size 432x288 with 1 Axes>"
            ]
          },
          "metadata": {},
          "output_type": "display_data"
        }
      ],
      "source": [
        "import matplotlib.pyplot as plt\n",
        "from scipy.special import gamma \n",
        "import math\n",
        "import numpy as np \n",
        "\n",
        "n = np.linspace(1,101,100)\n",
        "O1 = gamma(n)\n",
        "O2 = 2**n\n",
        "O3 = n**2 \n",
        "O4 = n*np.log(n) / np.log(2)\n",
        "O5 = n\n",
        "O6 = np.sqrt(n)\n",
        "O7 = np.log(n) / np.log(2)\n",
        "plt.plot(n, O1, '--k', label='n!')\n",
        "plt.plot(n, O2, '--r', label='2^n')\n",
        "plt.plot(n, O3, '--g', label='n^2')\n",
        "plt.plot(n, O4, 'y', label='nlog(n)')\n",
        "plt.plot(n, O5, 'c', label='n')\n",
        "plt.plot(n, O6, '--m', label='sqrt(n)')\n",
        "plt.plot(n, O7, 'b', label='log(n)')\n",
        "axes = plt.gca()\n",
        "axes.set(xlim=(0,100), ylim=(0,100))\n",
        "leg = axes.legend()\n",
        "plt.show()"
      ]
    },
    {
      "cell_type": "markdown",
      "metadata": {
        "id": "2_-UUlaKtqs3"
      },
      "source": [
        "##algoritmo de permutação"
      ]
    },
    {
      "cell_type": "code",
      "execution_count": null,
      "metadata": {
        "colab": {
          "base_uri": "https://localhost:8080/"
        },
        "id": "_1HM8Vj6tvQC",
        "outputId": "0b73337d-2bde-4b38-8181-f4f77db501d9"
      },
      "outputs": [
        {
          "name": "stdout",
          "output_type": "stream",
          "text": [
            "CPU times: user 6 µs, sys: 1 µs, total: 7 µs\n",
            "Wall time: 10.3 µs\n",
            "[1, 2, 3]\n",
            "[2, 1, 3]\n",
            "[3, 1, 2]\n",
            "[1, 3, 2]\n",
            "[2, 3, 1]\n",
            "[3, 2, 1]\n"
          ]
        }
      ],
      "source": [
        "#O(n!)\n",
        "%time\n",
        "def Permutacao(data, n):\n",
        "  if n ==1:\n",
        "    print(data)\n",
        "    return\n",
        "  for i in range(n):\n",
        "    Permutacao(data, n-1)\n",
        "    if n % 2 ==0:\n",
        "      data[i], data[n-1] = data[n-1], data[i]\n",
        "    else:\n",
        "      data[0], data[n-1] = data[n-1], data[0]\n",
        "data = [1,2, 3]\n",
        "Permutacao(data, len(data))\n"
      ]
    },
    {
      "cell_type": "markdown",
      "metadata": {
        "id": "S6V2trtE39A9"
      },
      "source": [
        "##Fibonacci"
      ]
    },
    {
      "cell_type": "code",
      "execution_count": null,
      "metadata": {
        "colab": {
          "base_uri": "https://localhost:8080/"
        },
        "id": "gmKm-LN138CW",
        "outputId": "f58e3038-54de-4612-a949-76a1254bdda5"
      },
      "outputs": [
        {
          "name": "stdout",
          "output_type": "stream",
          "text": [
            "CPU times: user 4 µs, sys: 0 ns, total: 4 µs\n",
            "Wall time: 8.82 µs\n",
            "5\n"
          ]
        }
      ],
      "source": [
        "#O(2^n)\n",
        "%time\n",
        "def fibonacci(n):\n",
        "  if n <=1:\n",
        "    return n\n",
        "  return fibonacci(n-1) + fibonacci(n-2)\n",
        "print(fibonacci(5))"
      ]
    },
    {
      "cell_type": "markdown",
      "metadata": {
        "id": "EN5dlJp35hCv"
      },
      "source": [
        "##"
      ]
    },
    {
      "cell_type": "code",
      "execution_count": null,
      "metadata": {
        "colab": {
          "base_uri": "https://localhost:8080/"
        },
        "id": "CVoGV7h55hRf",
        "outputId": "064382c1-04c7-498f-eae9-68ea67ae6de0"
      },
      "outputs": [
        {
          "name": "stdout",
          "output_type": "stream",
          "text": [
            "CPU times: user 4 µs, sys: 0 ns, total: 4 µs\n",
            "Wall time: 8.58 µs\n",
            "Itens: 1,1\n",
            "Itens: 1,2\n",
            "Itens: 1,3\n",
            "Itens: 1,4\n",
            "Itens: 2,1\n",
            "Itens: 2,2\n",
            "Itens: 2,3\n",
            "Itens: 2,4\n",
            "Itens: 3,1\n",
            "Itens: 3,2\n",
            "Itens: 3,3\n",
            "Itens: 3,4\n",
            "Itens: 4,1\n",
            "Itens: 4,2\n",
            "Itens: 4,3\n",
            "Itens: 4,4\n"
          ]
        }
      ],
      "source": [
        "#O(n^2)\n",
        "%time \n",
        "def Print_Par(lista):\n",
        "  for i in lista:\n",
        "    for j  in lista:\n",
        "      print(\"Itens: {},{}\".format(i,j))\n",
        "Print_Par([1,2,3,4])"
      ]
    },
    {
      "cell_type": "markdown",
      "metadata": {
        "id": "VbJrY39F8Bvt"
      },
      "source": [
        "##Merge Sort\n",
        "\n",
        "\n"
      ]
    },
    {
      "cell_type": "code",
      "execution_count": null,
      "metadata": {
        "colab": {
          "base_uri": "https://localhost:8080/"
        },
        "id": "1dZNdanp8B9B",
        "outputId": "571d0f65-fc62-4dfb-a29e-8be89dbba777"
      },
      "outputs": [
        {
          "name": "stdout",
          "output_type": "stream",
          "text": [
            "CPU times: user 4 µs, sys: 0 ns, total: 4 µs\n",
            "Wall time: 8.34 µs\n",
            "[0, 1, 2, 3, 4, 5, 6, 7, 8, 9]\n"
          ]
        }
      ],
      "source": [
        "# O(nlog(n))\n",
        "%time\n",
        "def Merge_Sort(dado):\n",
        "  if len(dado) <=1:\n",
        "    return\n",
        "  meio = len(dado)//2\n",
        "  part1_info = dado[:meio]\n",
        "  part2_info = dado[meio:]\n",
        "\n",
        "  Merge_Sort(part1_info)\n",
        "  Merge_Sort(part2_info)\n",
        "\n",
        "  part1_index = 0\n",
        "  part2_index = 0\n",
        "  dado_index= 0\n",
        "\n",
        "  while(part1_index < len(part1_info) and part2_index < len(part2_info)):\n",
        "    if part1_info[part1_index] < part2_info[part2_index]:\n",
        "      dado[dado_index] = part1_info[part1_index]\n",
        "      part1_index+=1\n",
        "    else:\n",
        "      dado[dado_index] = part2_info[part2_index]\n",
        "      part2_index += 1\n",
        "    dado_index += 1\n",
        "\n",
        "  if part1_index < len(part1_info):\n",
        "    del dado[dado_index:]\n",
        "    dado += part1_info[part1_index:]\n",
        "  elif part2_index < len(part2_info):\n",
        "    del dado[dado_index:]\n",
        "    dado += part2_info[part2_index:]\n",
        "\n",
        "dado = [ 9, 0, 8, 6, 2, 5, 7, 3, 4, 1]\n",
        "Merge_Sort(dado)\n",
        "print(dado) "
      ]
    },
    {
      "cell_type": "markdown",
      "metadata": {
        "id": "fu0av9zShXUC"
      },
      "source": []
    },
    {
      "cell_type": "markdown",
      "metadata": {
        "id": "JU55Pi3KPmA4"
      },
      "source": [
        "##Pesquisa Linear"
      ]
    },
    {
      "cell_type": "code",
      "execution_count": null,
      "metadata": {
        "colab": {
          "base_uri": "https://localhost:8080/"
        },
        "id": "mzH7k6MsPmQW",
        "outputId": "041e6a76-6301-460b-b727-cedfddba4a08"
      },
      "outputs": [
        {
          "name": "stdout",
          "output_type": "stream",
          "text": [
            "CPU times: user 3 µs, sys: 0 ns, total: 3 µs\n",
            "Wall time: 5.96 µs\n",
            "6\n"
          ]
        }
      ],
      "source": [
        "# O(n)\n",
        "%time\n",
        "# Pesquisa linear\n",
        "def Pesq_linear(dado, valor):\n",
        "  for index in range(len(dado)):\n",
        "    if valor == dado[index]:\n",
        "      return index\n",
        "  raise ValueError('Valor não encontrado na lista')\n",
        "dado = [1, 2, 3, 7, 4, 5, 9, 0, 11]\n",
        "print(Pesq_linear(dado, 9))"
      ]
    },
    {
      "cell_type": "markdown",
      "metadata": {
        "id": "OpawDx4qTfQl"
      },
      "source": [
        "##Pesquisa binaria "
      ]
    },
    {
      "cell_type": "code",
      "execution_count": null,
      "metadata": {
        "colab": {
          "base_uri": "https://localhost:8080/"
        },
        "id": "KKB77_mKTgQb",
        "outputId": "c01abbf4-1794-4e8b-afb3-f1573dbc1c2a"
      },
      "outputs": [
        {
          "name": "stdout",
          "output_type": "stream",
          "text": [
            "CPU times: user 4 µs, sys: 0 ns, total: 4 µs\n",
            "Wall time: 8.34 µs\n",
            "1\n",
            "7\n",
            "9\n"
          ]
        }
      ],
      "source": [
        "#O (log(n))\n",
        "\n",
        "%time\n",
        "for index in range(0, len(dado), 3):\n",
        "  print(dado[index])\n",
        "\n",
        "def Pesquisa_binaria(dado, valor):\n",
        "  n = len(dado)\n",
        "  esquerda = 0\n",
        "  direita = n-1\n",
        "  while esquerda <= direita:\n",
        "    meio = (esquerda + direita) //2\n",
        "    if valor <dado[meio]:\n",
        "      direita = meio-1\n",
        "    elif valor > data[meio]:\n",
        "      esquerda = meio + 1\n",
        "    else:\n",
        "      return meio\n",
        "  raise ValueError('Valor não encontrado na lista')\n",
        "dado = [1, 2, 3, 4, 5, 6, 7, 8, 9]"
      ]
    },
    {
      "cell_type": "markdown",
      "metadata": {
        "id": "HfCYHkTChlfG"
      },
      "source": [
        "#Listas encadeadas\n"
      ]
    },
    {
      "cell_type": "code",
      "execution_count": 21,
      "metadata": {
        "colab": {
          "base_uri": "https://localhost:8080/",
          "height": 583
        },
        "id": "xTw89HeQh45B",
        "outputId": "1e138a30-80f4-422b-d735-e04d80a5a1eb"
      },
      "outputs": [
        {
          "output_type": "stream",
          "name": "stdout",
          "text": [
            "A lista não possui nenhum elemento\n",
            "----------------------\n",
            "3\n",
            "7\n",
            "2\n",
            "1\n",
            "----------------------\n",
            "O total de elementos da list é 4\n",
            "1\n",
            "2\n",
            "7\n",
            "3\n",
            "----------------------\n"
          ]
        },
        {
          "output_type": "error",
          "ename": "AttributeError",
          "evalue": "ignored",
          "traceback": [
            "\u001b[0;31m---------------------------------------------------------------------------\u001b[0m",
            "\u001b[0;31mAttributeError\u001b[0m                            Traceback (most recent call last)",
            "\u001b[0;32m<ipython-input-21-548bbdcb861e>\u001b[0m in \u001b[0;36m<module>\u001b[0;34m\u001b[0m\n\u001b[1;32m     87\u001b[0m \u001b[0mmy_list\u001b[0m\u001b[0;34m.\u001b[0m\u001b[0mreverse_listaencadeada\u001b[0m\u001b[0;34m(\u001b[0m\u001b[0;34m)\u001b[0m\u001b[0;34m\u001b[0m\u001b[0;34m\u001b[0m\u001b[0m\n\u001b[1;32m     88\u001b[0m \u001b[0mmy_list\u001b[0m\u001b[0;34m.\u001b[0m\u001b[0mdisplay\u001b[0m\u001b[0;34m(\u001b[0m\u001b[0;34m)\u001b[0m\u001b[0;34m\u001b[0m\u001b[0;34m\u001b[0m\u001b[0m\n\u001b[0;32m---> 89\u001b[0;31m \u001b[0mmy_list\u001b[0m\u001b[0;34m.\u001b[0m\u001b[0mget\u001b[0m\u001b[0;34m(\u001b[0m\u001b[0;36m1\u001b[0m\u001b[0;34m)\u001b[0m\u001b[0;34m\u001b[0m\u001b[0;34m\u001b[0m\u001b[0m\n\u001b[0m\u001b[1;32m     90\u001b[0m \u001b[0;34m\u001b[0m\u001b[0m\n\u001b[1;32m     91\u001b[0m \u001b[0;34m\u001b[0m\u001b[0m\n",
            "\u001b[0;32m<ipython-input-21-548bbdcb861e>\u001b[0m in \u001b[0;36mget\u001b[0;34m(self, index)\u001b[0m\n\u001b[1;32m     69\u001b[0m           \u001b[0;32mif\u001b[0m \u001b[0midx_atual\u001b[0m \u001b[0;34m==\u001b[0m \u001b[0mindex\u001b[0m\u001b[0;34m:\u001b[0m\u001b[0;34m\u001b[0m\u001b[0;34m\u001b[0m\u001b[0m\n\u001b[1;32m     70\u001b[0m              \u001b[0;32mreturn\u001b[0m \u001b[0mno_atual\u001b[0m\u001b[0;34m.\u001b[0m\u001b[0mdata\u001b[0m\u001b[0;34m\u001b[0m\u001b[0;34m\u001b[0m\u001b[0m\n\u001b[0;32m---> 71\u001b[0;31m           \u001b[0mno_atual\u001b[0m \u001b[0;34m=\u001b[0m \u001b[0mno_atual\u001b[0m\u001b[0;34m.\u001b[0m\u001b[0mnext\u001b[0m\u001b[0;34m\u001b[0m\u001b[0;34m\u001b[0m\u001b[0m\n\u001b[0m\u001b[1;32m     72\u001b[0m           \u001b[0midx_atual\u001b[0m \u001b[0;34m+=\u001b[0m \u001b[0;36m1\u001b[0m\u001b[0;34m\u001b[0m\u001b[0;34m\u001b[0m\u001b[0m\n\u001b[1;32m     73\u001b[0m \u001b[0;34m\u001b[0m\u001b[0m\n",
            "\u001b[0;31mAttributeError\u001b[0m: 'int' object has no attribute 'next'"
          ]
        }
      ],
      "source": [
        "class Node:\n",
        "  def __init__(self, dado):\n",
        "    self. dado = dado\n",
        "    self.next = None\n",
        "class ListaEncadeada:\n",
        "  def __init__(self):\n",
        "    self.head = None\n",
        "  def append(self, dado):\n",
        "    novo_no = Node(dado)\n",
        "\n",
        "    if self.head == None:\n",
        "      self.head = novo_no\n",
        "      return\n",
        "    no_atual = self.head\n",
        "\n",
        "    while no_atual.next:\n",
        "      no_atual = no_atual.next\n",
        "\n",
        "    no_atual.next = novo_no\n",
        "    return\n",
        "\n",
        "  def tamanho_lista(self):\n",
        "    if self.head == None:\n",
        "      return 0\n",
        "    no_atual = self.head\n",
        "    total = 0\n",
        "\n",
        "    while no_atual:\n",
        "      total += 1\n",
        "      no_atual = no_atual.next\n",
        "    return total\n",
        "  def lista(self):\n",
        "    no_dado = []\n",
        "    no_atual = self.head\n",
        "\n",
        "    while no_atual:\n",
        "      no_dado.append(no_atual.dado)\n",
        "      no_atual = no_atual.next\n",
        "    return no_dado\n",
        "\n",
        "  def display(self):\n",
        "    contents = self.head\n",
        "\n",
        "    if contents is None:\n",
        "      print('A lista não possui nenhum elemento')\n",
        "\n",
        "    while contents:\n",
        "      print(contents.dado)\n",
        "      contents = contents.next\n",
        "    print('----------------------')\n",
        "\n",
        "  def reverse_listaencadeada(self):\n",
        "     no_anterior = None\n",
        "     no_atual = self.head\n",
        "     while no_atual != None:\n",
        "       novo = no_atual.next\n",
        "       no_atual.next = no_anterior\n",
        "       no_anterior = no_atual\n",
        "       no_atual = novo\n",
        "     self.head = no_anterior\n",
        "     \n",
        "  def get(self, index):\n",
        "      if index >= self.tamanho_lista() or index <0:\n",
        "          print(\"Erro: Valor não encontrado\")\n",
        "          return None\n",
        "      idx_atual = 0\n",
        "      no_atual = 0\n",
        "      while no_atual != None:\n",
        "          if idx_atual == index:\n",
        "             return no_atual.data\n",
        "          no_atual = no_atual.next\n",
        "          idx_atual += 1\n",
        "\n",
        "\n",
        "#teste\n",
        "my_list = ListaEncadeada()\n",
        "my_list.display()\n",
        "\n",
        "my_list.append(3)\n",
        "my_list.append(7)\n",
        "my_list.append(2)\n",
        "my_list.append(1)\n",
        "my_list.display()\n",
        "\n",
        "print(\"O total de elementos da list é \" + str(my_list.tamanho_lista()))\n",
        "\n",
        "my_list.reverse_listaencadeada()\n",
        "my_list.display()\n",
        "my_list.get(1)\n",
        "\n",
        "\n"
      ]
    }
  ],
  "metadata": {
    "colab": {
      "provenance": []
    },
    "kernelspec": {
      "display_name": "Python 3",
      "name": "python3"
    },
    "language_info": {
      "name": "python"
    }
  },
  "nbformat": 4,
  "nbformat_minor": 0
}